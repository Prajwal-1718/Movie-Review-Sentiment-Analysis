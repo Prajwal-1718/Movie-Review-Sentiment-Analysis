{
 "cells": [
  {
   "cell_type": "markdown",
   "id": "2c56a69d",
   "metadata": {},
   "source": [
    "# Movie Reviews Sentiment Analysis\n",
    "\n",
    "----------\n",
    "\n",
    "* This project is based on the reviews provided by the people after watching the movies.\n",
    "* Here based on the reviews, we gonna classify the movie revies as either **Positive** or **Negative** sentiment\n",
    "* For this we use **Natural Language Processing** for process the reviews.\n",
    "\n",
    "----------\n",
    "\n",
    "### Steps :\n",
    "1. Problem\n",
    "2. Import the required packages and load the data\n",
    "3. EDA and Preprocess the data\n",
    "4. Feature Engineering\n",
    "5. Model Selection and Training\n",
    "6. Evaluate the Model Performance\n",
    "\n",
    "-----------\n",
    "\n",
    "## 1. Probelm :\n",
    "    Classify the reviews of movies into either a positive sentiment or a negative sentiment review.\n",
    "    \n",
    "-----------\n",
    "\n",
    "## 2. Import the required packages and load the data"
   ]
  },
  {
   "cell_type": "code",
   "execution_count": 1,
   "id": "37d49e83",
   "metadata": {},
   "outputs": [],
   "source": [
    "# Import the required libraries\n",
    "\n",
    "import numpy as np # For Linear Algebra\n",
    "import pandas as pd # For Data Handling\n",
    "import matplotlib.pyplot as plt # For data visualization\n",
    "import seaborn as sns # For Data Visualization\n",
    "import re # For regex operations\n",
    "\n",
    "# NLP libraries\n",
    "from nltk.corpus import stopwords # For using the pre-built stopwords\n",
    "from nltk.tokenize import word_tokenize # For tokennization\n",
    "from nltk.stem import SnowballStemmer # For stemming \n",
    "\n",
    "# ML components\n",
    "from sklearn.model_selection import train_test_split # For splitting the dataset into train and test sets\n",
    "from sklearn.feature_extraction.text import CountVectorizer # For Vectorization of the text\n",
    "from sklearn.naive_bayes import MultinomialNB, GaussianNB, BernoulliNB # ML models to be used for classification\n",
    "from sklearn.metrics import confusion_matrix # For creating the confusion matrix for the model's prediciton\n",
    "from sklearn.metrics import accuracy_score, precision_score, recall_score # For calculating the different kinds of scores\n",
    "\n",
    "import pickle # For handling the model"
   ]
  },
  {
   "cell_type": "code",
   "execution_count": 2,
   "id": "3c11eb46",
   "metadata": {},
   "outputs": [
    {
     "name": "stdout",
     "output_type": "stream",
     "text": [
      "Shape of the data :  (50000, 2)\n"
     ]
    },
    {
     "data": {
      "text/html": [
       "<div>\n",
       "<style scoped>\n",
       "    .dataframe tbody tr th:only-of-type {\n",
       "        vertical-align: middle;\n",
       "    }\n",
       "\n",
       "    .dataframe tbody tr th {\n",
       "        vertical-align: top;\n",
       "    }\n",
       "\n",
       "    .dataframe thead th {\n",
       "        text-align: right;\n",
       "    }\n",
       "</style>\n",
       "<table border=\"1\" class=\"dataframe\">\n",
       "  <thead>\n",
       "    <tr style=\"text-align: right;\">\n",
       "      <th></th>\n",
       "      <th>review</th>\n",
       "      <th>sentiment</th>\n",
       "    </tr>\n",
       "  </thead>\n",
       "  <tbody>\n",
       "    <tr>\n",
       "      <th>0</th>\n",
       "      <td>One of the other reviewers has mentioned that ...</td>\n",
       "      <td>positive</td>\n",
       "    </tr>\n",
       "    <tr>\n",
       "      <th>1</th>\n",
       "      <td>A wonderful little production. &lt;br /&gt;&lt;br /&gt;The...</td>\n",
       "      <td>positive</td>\n",
       "    </tr>\n",
       "    <tr>\n",
       "      <th>2</th>\n",
       "      <td>I thought this was a wonderful way to spend ti...</td>\n",
       "      <td>positive</td>\n",
       "    </tr>\n",
       "    <tr>\n",
       "      <th>3</th>\n",
       "      <td>Basically there's a family where a little boy ...</td>\n",
       "      <td>negative</td>\n",
       "    </tr>\n",
       "    <tr>\n",
       "      <th>4</th>\n",
       "      <td>Petter Mattei's \"Love in the Time of Money\" is...</td>\n",
       "      <td>positive</td>\n",
       "    </tr>\n",
       "  </tbody>\n",
       "</table>\n",
       "</div>"
      ],
      "text/plain": [
       "                                              review sentiment\n",
       "0  One of the other reviewers has mentioned that ...  positive\n",
       "1  A wonderful little production. <br /><br />The...  positive\n",
       "2  I thought this was a wonderful way to spend ti...  positive\n",
       "3  Basically there's a family where a little boy ...  negative\n",
       "4  Petter Mattei's \"Love in the Time of Money\" is...  positive"
      ]
     },
     "execution_count": 2,
     "metadata": {},
     "output_type": "execute_result"
    }
   ],
   "source": [
    "# Load the dataset\n",
    "data = pd.read_csv('./IMDB-Dataset.csv')\n",
    "print(\"Shape of the data : \", data.shape)\n",
    "data.head()"
   ]
  },
  {
   "cell_type": "markdown",
   "id": "ceb87315",
   "metadata": {},
   "source": [
    "From the above output, we can say that the file has only two columns. **review** and **sentiment**."
   ]
  },
  {
   "cell_type": "markdown",
   "id": "df016fce",
   "metadata": {},
   "source": [
    "## 3. EDA and Preprocess the data"
   ]
  },
  {
   "cell_type": "code",
   "execution_count": 3,
   "id": "5f204c3f",
   "metadata": {},
   "outputs": [
    {
     "name": "stdout",
     "output_type": "stream",
     "text": [
      "<class 'pandas.core.frame.DataFrame'>\n",
      "RangeIndex: 50000 entries, 0 to 49999\n",
      "Data columns (total 2 columns):\n",
      " #   Column     Non-Null Count  Dtype \n",
      "---  ------     --------------  ----- \n",
      " 0   review     50000 non-null  object\n",
      " 1   sentiment  50000 non-null  object\n",
      "dtypes: object(2)\n",
      "memory usage: 781.4+ KB\n"
     ]
    }
   ],
   "source": [
    "# Let's check the detailed information about the data\n",
    "data.info()"
   ]
  },
  {
   "cell_type": "markdown",
   "id": "a1bfd6be",
   "metadata": {},
   "source": [
    "* As you can see that the dataset has **NO-NULL** values.\n",
    "* And both the columns are of *object* data type.\n",
    "\n",
    "* Let's count the values of for each classification to check the balance of data"
   ]
  },
  {
   "cell_type": "code",
   "execution_count": 4,
   "id": "3b2edbf3",
   "metadata": {},
   "outputs": [
    {
     "data": {
      "text/plain": [
       "sentiment\n",
       "positive    25000\n",
       "negative    25000\n",
       "Name: count, dtype: int64"
      ]
     },
     "execution_count": 4,
     "metadata": {},
     "output_type": "execute_result"
    }
   ],
   "source": [
    "data.sentiment.value_counts()"
   ]
  },
  {
   "cell_type": "markdown",
   "id": "64efdd44",
   "metadata": {},
   "source": [
    "* We have a very balanced data.\n",
    "* Let's conver the object type into binary values (0, 1)\n",
    "* Positive -> 1\n",
    "* Negative -> 0"
   ]
  },
  {
   "cell_type": "code",
   "execution_count": 5,
   "id": "0465bfdf",
   "metadata": {},
   "outputs": [
    {
     "data": {
      "text/html": [
       "<div>\n",
       "<style scoped>\n",
       "    .dataframe tbody tr th:only-of-type {\n",
       "        vertical-align: middle;\n",
       "    }\n",
       "\n",
       "    .dataframe tbody tr th {\n",
       "        vertical-align: top;\n",
       "    }\n",
       "\n",
       "    .dataframe thead th {\n",
       "        text-align: right;\n",
       "    }\n",
       "</style>\n",
       "<table border=\"1\" class=\"dataframe\">\n",
       "  <thead>\n",
       "    <tr style=\"text-align: right;\">\n",
       "      <th></th>\n",
       "      <th>review</th>\n",
       "      <th>sentiment</th>\n",
       "    </tr>\n",
       "  </thead>\n",
       "  <tbody>\n",
       "    <tr>\n",
       "      <th>0</th>\n",
       "      <td>One of the other reviewers has mentioned that ...</td>\n",
       "      <td>1</td>\n",
       "    </tr>\n",
       "    <tr>\n",
       "      <th>1</th>\n",
       "      <td>A wonderful little production. &lt;br /&gt;&lt;br /&gt;The...</td>\n",
       "      <td>1</td>\n",
       "    </tr>\n",
       "    <tr>\n",
       "      <th>2</th>\n",
       "      <td>I thought this was a wonderful way to spend ti...</td>\n",
       "      <td>1</td>\n",
       "    </tr>\n",
       "    <tr>\n",
       "      <th>3</th>\n",
       "      <td>Basically there's a family where a little boy ...</td>\n",
       "      <td>0</td>\n",
       "    </tr>\n",
       "    <tr>\n",
       "      <th>4</th>\n",
       "      <td>Petter Mattei's \"Love in the Time of Money\" is...</td>\n",
       "      <td>1</td>\n",
       "    </tr>\n",
       "    <tr>\n",
       "      <th>5</th>\n",
       "      <td>Probably my all-time favorite movie, a story o...</td>\n",
       "      <td>1</td>\n",
       "    </tr>\n",
       "    <tr>\n",
       "      <th>6</th>\n",
       "      <td>I sure would like to see a resurrection of a u...</td>\n",
       "      <td>1</td>\n",
       "    </tr>\n",
       "    <tr>\n",
       "      <th>7</th>\n",
       "      <td>This show was an amazing, fresh &amp; innovative i...</td>\n",
       "      <td>0</td>\n",
       "    </tr>\n",
       "    <tr>\n",
       "      <th>8</th>\n",
       "      <td>Encouraged by the positive comments about this...</td>\n",
       "      <td>0</td>\n",
       "    </tr>\n",
       "    <tr>\n",
       "      <th>9</th>\n",
       "      <td>If you like original gut wrenching laughter yo...</td>\n",
       "      <td>1</td>\n",
       "    </tr>\n",
       "  </tbody>\n",
       "</table>\n",
       "</div>"
      ],
      "text/plain": [
       "                                              review  sentiment\n",
       "0  One of the other reviewers has mentioned that ...          1\n",
       "1  A wonderful little production. <br /><br />The...          1\n",
       "2  I thought this was a wonderful way to spend ti...          1\n",
       "3  Basically there's a family where a little boy ...          0\n",
       "4  Petter Mattei's \"Love in the Time of Money\" is...          1\n",
       "5  Probably my all-time favorite movie, a story o...          1\n",
       "6  I sure would like to see a resurrection of a u...          1\n",
       "7  This show was an amazing, fresh & innovative i...          0\n",
       "8  Encouraged by the positive comments about this...          0\n",
       "9  If you like original gut wrenching laughter yo...          1"
      ]
     },
     "execution_count": 5,
     "metadata": {},
     "output_type": "execute_result"
    }
   ],
   "source": [
    "# Converting the sentiment into binary values (0, 1)\n",
    "data.sentiment.replace('positive', 1, inplace=True)\n",
    "data.sentiment.replace('negative', 0, inplace=True)\n",
    "\n",
    "data.head(10)"
   ]
  },
  {
   "cell_type": "markdown",
   "id": "0288423c",
   "metadata": {},
   "source": [
    "### Steps to preprocess the text (Reviews):\n",
    "    a. Remove the HTML tags\n",
    "    b. Remove the special characters (punctuations)\n",
    "    c. Convert everything to lowercase\n",
    "    d. Remove the stopwords\n",
    "    e. Stemming\n",
    "\n",
    "-------------\n",
    "\n",
    "**a. Remove the HTML tags**"
   ]
  },
  {
   "cell_type": "code",
   "execution_count": 6,
   "id": "62ed5db9",
   "metadata": {},
   "outputs": [],
   "source": [
    "# Pattern for HTML tags using regex\n",
    "# pattern = r'<.*?>'\n",
    "\n",
    "# Define a function which takes text and reemoves HTML tags\n",
    "def cleanHTML(text):\n",
    "    cleaned = re.compile(r'<.*?>') # This will compile the regex, returns object pattern\n",
    "    return re.sub(cleaned, ' ', text) # Return the text by substituting the HTML tags with blank space"
   ]
  },
  {
   "cell_type": "code",
   "execution_count": 7,
   "id": "23c9ea78",
   "metadata": {},
   "outputs": [
    {
     "data": {
      "text/plain": [
       "0    One of the other reviewers has mentioned that ...\n",
       "1    A wonderful little production.   The filming t...\n",
       "2    I thought this was a wonderful way to spend ti...\n",
       "3    Basically there's a family where a little boy ...\n",
       "4    Petter Mattei's \"Love in the Time of Money\" is...\n",
       "5    Probably my all-time favorite movie, a story o...\n",
       "6    I sure would like to see a resurrection of a u...\n",
       "7    This show was an amazing, fresh & innovative i...\n",
       "8    Encouraged by the positive comments about this...\n",
       "9    If you like original gut wrenching laughter yo...\n",
       "Name: review, dtype: object"
      ]
     },
     "execution_count": 7,
     "metadata": {},
     "output_type": "execute_result"
    }
   ],
   "source": [
    "# Pass the each review to the function and store it in the same location\n",
    "data['review'] = data.review.apply(cleanHTML)\n",
    "\n",
    "data.review.head(10)"
   ]
  },
  {
   "cell_type": "markdown",
   "id": "f752ed0d",
   "metadata": {},
   "source": [
    "**b. Remove the special characters (punctuations)**"
   ]
  },
  {
   "cell_type": "code",
   "execution_count": 8,
   "id": "153803d4",
   "metadata": {},
   "outputs": [],
   "source": [
    "# Remove the characters which are neither an alphabet nor a digit\n",
    "\n",
    "# REGEX pattern for a character which is neither an alphabet nor a digit\n",
    "pattern = r'[^a-zA-Z0-9]'\n",
    "\n",
    "def cleanSpecialCh(text):\n",
    "    return re.sub(pattern, ' ', text)"
   ]
  },
  {
   "cell_type": "code",
   "execution_count": 9,
   "id": "078ac883",
   "metadata": {},
   "outputs": [
    {
     "data": {
      "text/plain": [
       "0    One of the other reviewers has mentioned that ...\n",
       "1    A wonderful little production    The filming t...\n",
       "2    I thought this was a wonderful way to spend ti...\n",
       "3    Basically there s a family where a little boy ...\n",
       "4    Petter Mattei s  Love in the Time of Money  is...\n",
       "5    Probably my all time favorite movie  a story o...\n",
       "6    I sure would like to see a resurrection of a u...\n",
       "7    This show was an amazing  fresh   innovative i...\n",
       "8    Encouraged by the positive comments about this...\n",
       "9    If you like original gut wrenching laughter yo...\n",
       "Name: review, dtype: object"
      ]
     },
     "execution_count": 9,
     "metadata": {},
     "output_type": "execute_result"
    }
   ],
   "source": [
    "# Apply the above function to each of the review\n",
    "\n",
    "data['review'] = data.review.apply(cleanSpecialCh)\n",
    "\n",
    "data.review.head(10)"
   ]
  },
  {
   "cell_type": "markdown",
   "id": "53e22b63",
   "metadata": {},
   "source": [
    "**c. Convert everything to lowercase**"
   ]
  },
  {
   "cell_type": "code",
   "execution_count": 10,
   "id": "3aea1e2d",
   "metadata": {},
   "outputs": [],
   "source": [
    "# Define a function for converting all the letters to lowercase\n",
    "def to_lower(text):\n",
    "    return text.lower()"
   ]
  },
  {
   "cell_type": "code",
   "execution_count": 11,
   "id": "49215bf3",
   "metadata": {},
   "outputs": [
    {
     "data": {
      "text/plain": [
       "0    one of the other reviewers has mentioned that ...\n",
       "1    a wonderful little production    the filming t...\n",
       "2    i thought this was a wonderful way to spend ti...\n",
       "3    basically there s a family where a little boy ...\n",
       "4    petter mattei s  love in the time of money  is...\n",
       "5    probably my all time favorite movie  a story o...\n",
       "6    i sure would like to see a resurrection of a u...\n",
       "7    this show was an amazing  fresh   innovative i...\n",
       "8    encouraged by the positive comments about this...\n",
       "9    if you like original gut wrenching laughter yo...\n",
       "Name: review, dtype: object"
      ]
     },
     "execution_count": 11,
     "metadata": {},
     "output_type": "execute_result"
    }
   ],
   "source": [
    "# Apply the above function to each review\n",
    "data['review'] = data.review.apply(to_lower)\n",
    "\n",
    "data.review.head(10)"
   ]
  },
  {
   "cell_type": "markdown",
   "id": "1808846d",
   "metadata": {},
   "source": [
    "**d. Remove the stopwords**"
   ]
  },
  {
   "cell_type": "code",
   "execution_count": 12,
   "id": "fd1ebedb",
   "metadata": {},
   "outputs": [],
   "source": [
    "# To remove the stopwords from the reviewa\n",
    "# We make use of the pre-built stopwords library from :\n",
    "#  NLTK.corpus\n",
    "\n",
    "def cleanStopwords(text):\n",
    "    stopWords = set(stopwords.words('english'))\n",
    "    tokens = word_tokenize(text)\n",
    "    return [tk for tk in tokens if tk not in stopWords]"
   ]
  },
  {
   "cell_type": "code",
   "execution_count": 13,
   "id": "f39e83a2",
   "metadata": {},
   "outputs": [
    {
     "data": {
      "text/plain": [
       "0    [one, reviewers, mentioned, watching, 1, oz, e...\n",
       "1    [wonderful, little, production, filming, techn...\n",
       "2    [thought, wonderful, way, spend, time, hot, su...\n",
       "3    [basically, family, little, boy, jake, thinks,...\n",
       "4    [petter, mattei, love, time, money, visually, ...\n",
       "5    [probably, time, favorite, movie, story, selfl...\n",
       "6    [sure, would, like, see, resurrection, dated, ...\n",
       "7    [show, amazing, fresh, innovative, idea, 70, f...\n",
       "8    [encouraged, positive, comments, film, looking...\n",
       "9    [like, original, gut, wrenching, laughter, lik...\n",
       "Name: review, dtype: object"
      ]
     },
     "execution_count": 13,
     "metadata": {},
     "output_type": "execute_result"
    }
   ],
   "source": [
    "# Apply the above function to each review\n",
    "data['review'] = data['review'].apply(cleanStopwords)\n",
    "\n",
    "data['review'].head(10)"
   ]
  },
  {
   "cell_type": "markdown",
   "id": "a6997f28",
   "metadata": {},
   "source": [
    "**e. Stemming**"
   ]
  },
  {
   "cell_type": "code",
   "execution_count": 14,
   "id": "7c9751bd",
   "metadata": {},
   "outputs": [],
   "source": [
    "# Define a function which stem the words\n",
    "def stem_words(text):\n",
    "    ss = SnowballStemmer('english')\n",
    "    return ' '.join([ss.stem(tk) for tk in text])"
   ]
  },
  {
   "cell_type": "code",
   "execution_count": 15,
   "id": "f304967c",
   "metadata": {},
   "outputs": [
    {
     "data": {
      "text/plain": [
       "0    one review mention watch 1 oz episod hook righ...\n",
       "1    wonder littl product film techniqu unassum old...\n",
       "2    thought wonder way spend time hot summer weeke...\n",
       "3    basic famili littl boy jake think zombi closet...\n",
       "4    petter mattei love time money visual stun film...\n",
       "5    probabl time favorit movi stori selfless sacri...\n",
       "6    sure would like see resurrect date seahunt ser...\n",
       "7    show amaz fresh innov idea 70 first air first ...\n",
       "8    encourag posit comment film look forward watch...\n",
       "9    like origin gut wrench laughter like movi youn...\n",
       "Name: review, dtype: object"
      ]
     },
     "execution_count": 15,
     "metadata": {},
     "output_type": "execute_result"
    }
   ],
   "source": [
    "# Apply the above funvtion to each review\n",
    "data['review'] = data['review'].apply(stem_words)\n",
    "\n",
    "data['review'].head(10)"
   ]
  },
  {
   "cell_type": "markdown",
   "id": "87b7337e",
   "metadata": {},
   "source": [
    "## 4. Feature Engineering\n",
    "    \n",
    "--------------\n",
    "\n",
    "**Bag-Of-Words(BOW)** : \n",
    "* Is used to preprocess the text **to classify before fitting classification algorithms** on the observations containing text\n",
    "* Is used for **text-vectorization**\n",
    "* The idea is to *count the number of times each word has appeared in a text* without considering it's position or grammatical role\n",
    "\n",
    "**Text-Vectorization :**\n",
    "* The process of transforming tokens(words) into numbers that can be used as input into machine learning or statistical models.\n",
    "* After the transformation, each token will be represented by a **unique vector**"
   ]
  },
  {
   "cell_type": "code",
   "execution_count": 16,
   "id": "78d1d534",
   "metadata": {},
   "outputs": [
    {
     "data": {
      "text/html": [
       "<div>\n",
       "<style scoped>\n",
       "    .dataframe tbody tr th:only-of-type {\n",
       "        vertical-align: middle;\n",
       "    }\n",
       "\n",
       "    .dataframe tbody tr th {\n",
       "        vertical-align: top;\n",
       "    }\n",
       "\n",
       "    .dataframe thead th {\n",
       "        text-align: right;\n",
       "    }\n",
       "</style>\n",
       "<table border=\"1\" class=\"dataframe\">\n",
       "  <thead>\n",
       "    <tr style=\"text-align: right;\">\n",
       "      <th></th>\n",
       "      <th>review</th>\n",
       "      <th>sentiment</th>\n",
       "      <th>tokenCount</th>\n",
       "    </tr>\n",
       "  </thead>\n",
       "  <tbody>\n",
       "    <tr>\n",
       "      <th>0</th>\n",
       "      <td>one review mention watch 1 oz episod hook righ...</td>\n",
       "      <td>1</td>\n",
       "      <td>163</td>\n",
       "    </tr>\n",
       "    <tr>\n",
       "      <th>1</th>\n",
       "      <td>wonder littl product film techniqu unassum old...</td>\n",
       "      <td>1</td>\n",
       "      <td>86</td>\n",
       "    </tr>\n",
       "    <tr>\n",
       "      <th>2</th>\n",
       "      <td>thought wonder way spend time hot summer weeke...</td>\n",
       "      <td>1</td>\n",
       "      <td>85</td>\n",
       "    </tr>\n",
       "    <tr>\n",
       "      <th>3</th>\n",
       "      <td>basic famili littl boy jake think zombi closet...</td>\n",
       "      <td>0</td>\n",
       "      <td>66</td>\n",
       "    </tr>\n",
       "    <tr>\n",
       "      <th>4</th>\n",
       "      <td>petter mattei love time money visual stun film...</td>\n",
       "      <td>1</td>\n",
       "      <td>125</td>\n",
       "    </tr>\n",
       "  </tbody>\n",
       "</table>\n",
       "</div>"
      ],
      "text/plain": [
       "                                              review  sentiment  tokenCount\n",
       "0  one review mention watch 1 oz episod hook righ...          1         163\n",
       "1  wonder littl product film techniqu unassum old...          1          86\n",
       "2  thought wonder way spend time hot summer weeke...          1          85\n",
       "3  basic famili littl boy jake think zombi closet...          0          66\n",
       "4  petter mattei love time money visual stun film...          1         125"
      ]
     },
     "execution_count": 16,
     "metadata": {},
     "output_type": "execute_result"
    }
   ],
   "source": [
    "data['tokenCount'] = data.review.apply(lambda txt : len(txt.split()))\n",
    "\n",
    "data.head()"
   ]
  },
  {
   "cell_type": "code",
   "execution_count": 17,
   "id": "a51ca378",
   "metadata": {},
   "outputs": [
    {
     "data": {
      "text/plain": [
       "count    50000.00000\n",
       "mean       119.59440\n",
       "std         90.29857\n",
       "min          3.00000\n",
       "25%         64.00000\n",
       "50%         89.00000\n",
       "75%        145.00000\n",
       "max       1435.00000\n",
       "Name: tokenCount, dtype: float64"
      ]
     },
     "execution_count": 17,
     "metadata": {},
     "output_type": "execute_result"
    }
   ],
   "source": [
    "data.tokenCount.describe()"
   ]
  },
  {
   "cell_type": "code",
   "execution_count": 18,
   "id": "ee7dd3e8",
   "metadata": {},
   "outputs": [
    {
     "data": {
      "text/html": [
       "<div>\n",
       "<style scoped>\n",
       "    .dataframe tbody tr th:only-of-type {\n",
       "        vertical-align: middle;\n",
       "    }\n",
       "\n",
       "    .dataframe tbody tr th {\n",
       "        vertical-align: top;\n",
       "    }\n",
       "\n",
       "    .dataframe thead th {\n",
       "        text-align: right;\n",
       "    }\n",
       "</style>\n",
       "<table border=\"1\" class=\"dataframe\">\n",
       "  <thead>\n",
       "    <tr style=\"text-align: right;\">\n",
       "      <th></th>\n",
       "      <th>review</th>\n",
       "      <th>sentiment</th>\n",
       "      <th>tokenCount</th>\n",
       "    </tr>\n",
       "  </thead>\n",
       "  <tbody>\n",
       "    <tr>\n",
       "      <th>19874</th>\n",
       "      <td>movi terribl good effect</td>\n",
       "      <td>0</td>\n",
       "      <td>4</td>\n",
       "    </tr>\n",
       "    <tr>\n",
       "      <th>27521</th>\n",
       "      <td>read book forget movi</td>\n",
       "      <td>0</td>\n",
       "      <td>4</td>\n",
       "    </tr>\n",
       "    <tr>\n",
       "      <th>31072</th>\n",
       "      <td>script stori mess</td>\n",
       "      <td>0</td>\n",
       "      <td>3</td>\n",
       "    </tr>\n",
       "  </tbody>\n",
       "</table>\n",
       "</div>"
      ],
      "text/plain": [
       "                         review  sentiment  tokenCount\n",
       "19874  movi terribl good effect          0           4\n",
       "27521     read book forget movi          0           4\n",
       "31072         script stori mess          0           3"
      ]
     },
     "execution_count": 18,
     "metadata": {},
     "output_type": "execute_result"
    }
   ],
   "source": [
    "data.loc[data.tokenCount < 5]"
   ]
  },
  {
   "cell_type": "code",
   "execution_count": 19,
   "id": "55677625",
   "metadata": {},
   "outputs": [
    {
     "data": {
      "text/plain": [
       "<Axes: >"
      ]
     },
     "execution_count": 19,
     "metadata": {},
     "output_type": "execute_result"
    },
    {
     "data": {
      "image/png": "[encoded data removed]",
      "text/plain": [
       "<Figure size 640x480 with 1 Axes>"
      ]
     },
     "metadata": {},
     "output_type": "display_data"
    }
   ],
   "source": [
    "data.tokenCount.hist(bins=100)"
   ]
  },
  {
   "cell_type": "code",
   "execution_count": 20,
   "id": "98aae9d5",
   "metadata": {},
   "outputs": [
    {
     "data": {
      "text/plain": [
       "(50000, 1000)"
      ]
     },
     "execution_count": 20,
     "metadata": {},
     "output_type": "execute_result"
    }
   ],
   "source": [
    "# Now create a BAg-Of-Words model\n",
    "\n",
    "cv = CountVectorizer(max_features=1000)\n",
    "X = cv.fit_transform(data.review)\n",
    "X.shape"
   ]
  },
  {
   "cell_type": "code",
   "execution_count": 21,
   "id": "3f45222c",
   "metadata": {},
   "outputs": [
    {
     "data": {
      "text/html": [
       "<div>\n",
       "<style scoped>\n",
       "    .dataframe tbody tr th:only-of-type {\n",
       "        vertical-align: middle;\n",
       "    }\n",
       "\n",
       "    .dataframe tbody tr th {\n",
       "        vertical-align: top;\n",
       "    }\n",
       "\n",
       "    .dataframe thead th {\n",
       "        text-align: right;\n",
       "    }\n",
       "</style>\n",
       "<table border=\"1\" class=\"dataframe\">\n",
       "  <thead>\n",
       "    <tr style=\"text-align: right;\">\n",
       "      <th></th>\n",
       "      <th>10</th>\n",
       "      <th>20</th>\n",
       "      <th>30</th>\n",
       "      <th>80</th>\n",
       "      <th>abil</th>\n",
       "      <th>abl</th>\n",
       "      <th>absolut</th>\n",
       "      <th>accent</th>\n",
       "      <th>accept</th>\n",
       "      <th>achiev</th>\n",
       "      <th>...</th>\n",
       "      <th>writer</th>\n",
       "      <th>written</th>\n",
       "      <th>wrong</th>\n",
       "      <th>wrote</th>\n",
       "      <th>year</th>\n",
       "      <th>yes</th>\n",
       "      <th>yet</th>\n",
       "      <th>york</th>\n",
       "      <th>young</th>\n",
       "      <th>zombi</th>\n",
       "    </tr>\n",
       "  </thead>\n",
       "  <tbody>\n",
       "    <tr>\n",
       "      <th>0</th>\n",
       "      <td>0</td>\n",
       "      <td>0</td>\n",
       "      <td>0</td>\n",
       "      <td>0</td>\n",
       "      <td>0</td>\n",
       "      <td>0</td>\n",
       "      <td>0</td>\n",
       "      <td>0</td>\n",
       "      <td>0</td>\n",
       "      <td>0</td>\n",
       "      <td>...</td>\n",
       "      <td>0</td>\n",
       "      <td>0</td>\n",
       "      <td>0</td>\n",
       "      <td>0</td>\n",
       "      <td>0</td>\n",
       "      <td>0</td>\n",
       "      <td>0</td>\n",
       "      <td>0</td>\n",
       "      <td>0</td>\n",
       "      <td>0</td>\n",
       "    </tr>\n",
       "    <tr>\n",
       "      <th>1</th>\n",
       "      <td>0</td>\n",
       "      <td>0</td>\n",
       "      <td>0</td>\n",
       "      <td>0</td>\n",
       "      <td>0</td>\n",
       "      <td>0</td>\n",
       "      <td>0</td>\n",
       "      <td>0</td>\n",
       "      <td>0</td>\n",
       "      <td>0</td>\n",
       "      <td>...</td>\n",
       "      <td>0</td>\n",
       "      <td>1</td>\n",
       "      <td>0</td>\n",
       "      <td>0</td>\n",
       "      <td>0</td>\n",
       "      <td>0</td>\n",
       "      <td>0</td>\n",
       "      <td>0</td>\n",
       "      <td>0</td>\n",
       "      <td>0</td>\n",
       "    </tr>\n",
       "    <tr>\n",
       "      <th>2</th>\n",
       "      <td>0</td>\n",
       "      <td>0</td>\n",
       "      <td>0</td>\n",
       "      <td>0</td>\n",
       "      <td>0</td>\n",
       "      <td>0</td>\n",
       "      <td>0</td>\n",
       "      <td>0</td>\n",
       "      <td>0</td>\n",
       "      <td>0</td>\n",
       "      <td>...</td>\n",
       "      <td>0</td>\n",
       "      <td>0</td>\n",
       "      <td>0</td>\n",
       "      <td>0</td>\n",
       "      <td>1</td>\n",
       "      <td>0</td>\n",
       "      <td>0</td>\n",
       "      <td>0</td>\n",
       "      <td>1</td>\n",
       "      <td>0</td>\n",
       "    </tr>\n",
       "    <tr>\n",
       "      <th>3</th>\n",
       "      <td>1</td>\n",
       "      <td>0</td>\n",
       "      <td>0</td>\n",
       "      <td>0</td>\n",
       "      <td>0</td>\n",
       "      <td>0</td>\n",
       "      <td>0</td>\n",
       "      <td>0</td>\n",
       "      <td>0</td>\n",
       "      <td>0</td>\n",
       "      <td>...</td>\n",
       "      <td>0</td>\n",
       "      <td>0</td>\n",
       "      <td>0</td>\n",
       "      <td>0</td>\n",
       "      <td>0</td>\n",
       "      <td>0</td>\n",
       "      <td>0</td>\n",
       "      <td>0</td>\n",
       "      <td>0</td>\n",
       "      <td>2</td>\n",
       "    </tr>\n",
       "    <tr>\n",
       "      <th>4</th>\n",
       "      <td>0</td>\n",
       "      <td>0</td>\n",
       "      <td>0</td>\n",
       "      <td>0</td>\n",
       "      <td>0</td>\n",
       "      <td>0</td>\n",
       "      <td>0</td>\n",
       "      <td>0</td>\n",
       "      <td>0</td>\n",
       "      <td>0</td>\n",
       "      <td>...</td>\n",
       "      <td>0</td>\n",
       "      <td>0</td>\n",
       "      <td>0</td>\n",
       "      <td>0</td>\n",
       "      <td>0</td>\n",
       "      <td>0</td>\n",
       "      <td>0</td>\n",
       "      <td>1</td>\n",
       "      <td>0</td>\n",
       "      <td>0</td>\n",
       "    </tr>\n",
       "  </tbody>\n",
       "</table>\n",
       "<p>5 rows × 1000 columns</p>\n",
       "</div>"
      ],
      "text/plain": [
       "   10  20  30  80  abil  abl  absolut  accent  accept  achiev  ...  writer  \\\n",
       "0   0   0   0   0     0    0        0       0       0       0  ...       0   \n",
       "1   0   0   0   0     0    0        0       0       0       0  ...       0   \n",
       "2   0   0   0   0     0    0        0       0       0       0  ...       0   \n",
       "3   1   0   0   0     0    0        0       0       0       0  ...       0   \n",
       "4   0   0   0   0     0    0        0       0       0       0  ...       0   \n",
       "\n",
       "   written  wrong  wrote  year  yes  yet  york  young  zombi  \n",
       "0        0      0      0     0    0    0     0      0      0  \n",
       "1        1      0      0     0    0    0     0      0      0  \n",
       "2        0      0      0     1    0    0     0      1      0  \n",
       "3        0      0      0     0    0    0     0      0      2  \n",
       "4        0      0      0     0    0    0     1      0      0  \n",
       "\n",
       "[5 rows x 1000 columns]"
      ]
     },
     "execution_count": 21,
     "metadata": {},
     "output_type": "execute_result"
    }
   ],
   "source": [
    "# Lets create a doc-term matrix\n",
    "\n",
    "# Extract the elements of vocabulary\n",
    "vocab = cv.get_feature_names_out()\n",
    "\n",
    "docterm = pd.DataFrame(X.todense(), columns=vocab)\n",
    "docterm.head()"
   ]
  },
  {
   "cell_type": "code",
   "execution_count": 22,
   "id": "b7de0ea5",
   "metadata": {},
   "outputs": [
    {
     "name": "stdout",
     "output_type": "stream",
     "text": [
      "X shape :  (50000, 1000)\n",
      "y shape :  (50000,)\n"
     ]
    }
   ],
   "source": [
    "# Let's create the feature and labels\n",
    "\n",
    "X = X.toarray()\n",
    "y = data.sentiment\n",
    "\n",
    "print(\"X shape : \", X.shape)\n",
    "print(\"y shape : \", y.shape)"
   ]
  },
  {
   "cell_type": "code",
   "execution_count": 23,
   "id": "de1bca04",
   "metadata": {},
   "outputs": [
    {
     "data": {
      "text/plain": [
       "array([[0, 0, 0, ..., 0, 0, 0],\n",
       "       [0, 0, 0, ..., 0, 0, 0],\n",
       "       [0, 0, 0, ..., 0, 1, 0],\n",
       "       ...,\n",
       "       [0, 0, 0, ..., 0, 0, 0],\n",
       "       [0, 0, 1, ..., 0, 0, 0],\n",
       "       [0, 0, 0, ..., 0, 0, 0]], dtype=int64)"
      ]
     },
     "execution_count": 23,
     "metadata": {},
     "output_type": "execute_result"
    }
   ],
   "source": [
    "X"
   ]
  },
  {
   "cell_type": "code",
   "execution_count": 24,
   "id": "1295485c",
   "metadata": {},
   "outputs": [
    {
     "data": {
      "text/plain": [
       "0        1\n",
       "1        1\n",
       "2        1\n",
       "3        0\n",
       "4        1\n",
       "        ..\n",
       "49995    1\n",
       "49996    0\n",
       "49997    0\n",
       "49998    0\n",
       "49999    0\n",
       "Name: sentiment, Length: 50000, dtype: int64"
      ]
     },
     "execution_count": 24,
     "metadata": {},
     "output_type": "execute_result"
    }
   ],
   "source": [
    "y"
   ]
  },
  {
   "cell_type": "markdown",
   "id": "ce275acb",
   "metadata": {},
   "source": [
    "## 5. Model Selection and Training\n",
    "\n",
    "Here we use Naive Bayes models such as `MultinomialNB`, `GaussianNB`, `BernoulliNB`\n",
    "\n",
    "---------------\n",
    "\n",
    "First split the features and labels into training set and test set"
   ]
  },
  {
   "cell_type": "code",
   "execution_count": 25,
   "id": "a2e1fac3",
   "metadata": {},
   "outputs": [
    {
     "name": "stdout",
     "output_type": "stream",
     "text": [
      "Shape of train set : X = (40000, 1000), y = (40000,)\n",
      "Shape of test set : X = (10000, 1000), y = (10000,)\n"
     ]
    }
   ],
   "source": [
    "# SPlit the data set into train and test set, alloting test set with 20% of data\n",
    "X_train, X_test, y_train, y_test = train_test_split(X, y, test_size=0.2, random_state=9)\n",
    "\n",
    "print(f\"Shape of train set : X = {X_train.shape}, y = {y_train.shape}\")\n",
    "print(f\"Shape of test set : X = {X_test.shape}, y = {y_test.shape}\")"
   ]
  },
  {
   "cell_type": "markdown",
   "id": "1f851dcb",
   "metadata": {},
   "source": [
    "Create an object for each of the models and train them\n"
   ]
  },
  {
   "cell_type": "code",
   "execution_count": 26,
   "id": "badf864c",
   "metadata": {},
   "outputs": [
    {
     "data": {
      "text/html": [
       "<style>#sk-container-id-1 {color: black;}#sk-container-id-1 pre{padding: 0;}#sk-container-id-1 div.sk-toggleable {background-color: white;}#sk-container-id-1 label.sk-toggleable__label {cursor: pointer;display: block;width: 100%;margin-bottom: 0;padding: 0.3em;box-sizing: border-box;text-align: center;}#sk-container-id-1 label.sk-toggleable__label-arrow:before {content: \"▸\";float: left;margin-right: 0.25em;color: #696969;}#sk-container-id-1 label.sk-toggleable__label-arrow:hover:before {color: black;}#sk-container-id-1 div.sk-estimator:hover label.sk-toggleable__label-arrow:before {color: black;}#sk-container-id-1 div.sk-toggleable__content {max-height: 0;max-width: 0;overflow: hidden;text-align: left;background-color: #f0f8ff;}#sk-container-id-1 div.sk-toggleable__content pre {margin: 0.2em;color: black;border-radius: 0.25em;background-color: #f0f8ff;}#sk-container-id-1 input.sk-toggleable__control:checked~div.sk-toggleable__content {max-height: 200px;max-width: 100%;overflow: auto;}#sk-container-id-1 input.sk-toggleable__control:checked~label.sk-toggleable__label-arrow:before {content: \"▾\";}#sk-container-id-1 div.sk-estimator input.sk-toggleable__control:checked~label.sk-toggleable__label {background-color: #d4ebff;}#sk-container-id-1 div.sk-label input.sk-toggleable__control:checked~label.sk-toggleable__label {background-color: #d4ebff;}#sk-container-id-1 input.sk-hidden--visually {border: 0;clip: rect(1px 1px 1px 1px);clip: rect(1px, 1px, 1px, 1px);height: 1px;margin: -1px;overflow: hidden;padding: 0;position: absolute;width: 1px;}#sk-container-id-1 div.sk-estimator {font-family: monospace;background-color: #f0f8ff;border: 1px dotted black;border-radius: 0.25em;box-sizing: border-box;margin-bottom: 0.5em;}#sk-container-id-1 div.sk-estimator:hover {background-color: #d4ebff;}#sk-container-id-1 div.sk-parallel-item::after {content: \"\";width: 100%;border-bottom: 1px solid gray;flex-grow: 1;}#sk-container-id-1 div.sk-label:hover label.sk-toggleable__label {background-color: #d4ebff;}#sk-container-id-1 div.sk-serial::before {content: \"\";position: absolute;border-left: 1px solid gray;box-sizing: border-box;top: 0;bottom: 0;left: 50%;z-index: 0;}#sk-container-id-1 div.sk-serial {display: flex;flex-direction: column;align-items: center;background-color: white;padding-right: 0.2em;padding-left: 0.2em;position: relative;}#sk-container-id-1 div.sk-item {position: relative;z-index: 1;}#sk-container-id-1 div.sk-parallel {display: flex;align-items: stretch;justify-content: center;background-color: white;position: relative;}#sk-container-id-1 div.sk-item::before, #sk-container-id-1 div.sk-parallel-item::before {content: \"\";position: absolute;border-left: 1px solid gray;box-sizing: border-box;top: 0;bottom: 0;left: 50%;z-index: -1;}#sk-container-id-1 div.sk-parallel-item {display: flex;flex-direction: column;z-index: 1;position: relative;background-color: white;}#sk-container-id-1 div.sk-parallel-item:first-child::after {align-self: flex-end;width: 50%;}#sk-container-id-1 div.sk-parallel-item:last-child::after {align-self: flex-start;width: 50%;}#sk-container-id-1 div.sk-parallel-item:only-child::after {width: 0;}#sk-container-id-1 div.sk-dashed-wrapped {border: 1px dashed gray;margin: 0 0.4em 0.5em 0.4em;box-sizing: border-box;padding-bottom: 0.4em;background-color: white;}#sk-container-id-1 div.sk-label label {font-family: monospace;font-weight: bold;display: inline-block;line-height: 1.2em;}#sk-container-id-1 div.sk-label-container {text-align: center;}#sk-container-id-1 div.sk-container {/* jupyter's `normalize.less` sets `[hidden] { display: none; }` but bootstrap.min.css set `[hidden] { display: none !important; }` so we also need the `!important` here to be able to override the default hidden behavior on the sphinx rendered scikit-learn.org. See: https://github.com/scikit-learn/scikit-learn/issues/21755 */display: inline-block !important;position: relative;}#sk-container-id-1 div.sk-text-repr-fallback {display: none;}</style><div id=\"sk-container-id-1\" class=\"sk-top-container\"><div class=\"sk-text-repr-fallback\"><pre>BernoulliNB()</pre><b>In a Jupyter environment, please rerun this cell to show the HTML representation or trust the notebook. <br />On GitHub, the HTML representation is unable to render, please try loading this page with nbviewer.org.</b></div><div class=\"sk-container\" hidden><div class=\"sk-item\"><div class=\"sk-estimator sk-toggleable\"><input class=\"sk-toggleable__control sk-hidden--visually\" id=\"sk-estimator-id-1\" type=\"checkbox\" checked><label for=\"sk-estimator-id-1\" class=\"sk-toggleable__label sk-toggleable__label-arrow\">BernoulliNB</label><div class=\"sk-toggleable__content\"><pre>BernoulliNB()</pre></div></div></div></div></div>"
      ],
      "text/plain": [
       "BernoulliNB()"
      ]
     },
     "execution_count": 26,
     "metadata": {},
     "output_type": "execute_result"
    }
   ],
   "source": [
    "gnb, mnb, bnb = GaussianNB(), MultinomialNB(alpha=1.0, fit_prior=True), BernoulliNB(alpha=1.0, fit_prior=True) \n",
    "\n",
    "# Train the models\n",
    "gnb.fit(X_train, y_train)\n",
    "mnb.fit(X_train, y_train)\n",
    "bnb.fit(X_train, y_train)"
   ]
  },
  {
   "cell_type": "markdown",
   "id": "a828f9d8",
   "metadata": {},
   "source": [
    "## 6. Evaluate the Model's Performance"
   ]
  },
  {
   "cell_type": "code",
   "execution_count": 27,
   "id": "a7a90b9e",
   "metadata": {},
   "outputs": [],
   "source": [
    "# Get the predictions for test set\n",
    "y_pred_g = gnb.predict(X_test)\n",
    "y_pred_m = mnb.predict(X_test)\n",
    "y_pred_b = bnb.predict(X_test)"
   ]
  },
  {
   "cell_type": "markdown",
   "id": "68938c6b",
   "metadata": {},
   "source": [
    "Let's create a confusion matrix for each model using `ConfusionMatrixDisplay`, and display the different scores"
   ]
  },
  {
   "cell_type": "code",
   "execution_count": 28,
   "id": "45cdca38",
   "metadata": {},
   "outputs": [
    {
     "name": "stdout",
     "output_type": "stream",
     "text": [
      "Gaussian NB Model\n",
      "Accuracy Score : 0.7843\n",
      "Precison score : 0.8150134048257373\n",
      "Recall Score : 0.7329716696805304\n"
     ]
    },
    {
     "data": {
      "text/plain": [
       "<sklearn.metrics._plot.confusion_matrix.ConfusionMatrixDisplay at 0x1a554c08490>"
      ]
     },
     "execution_count": 28,
     "metadata": {},
     "output_type": "execute_result"
    },
    {
     "data": {
      "image/png": "[encoded data removed]",
      "text/plain": [
       "<Figure size 640x480 with 2 Axes>"
      ]
     },
     "metadata": {},
     "output_type": "display_data"
    }
   ],
   "source": [
    "# For Gaussian NB Model\n",
    "\n",
    "from sklearn.metrics import ConfusionMatrixDisplay\n",
    "\n",
    "cm = confusion_matrix(y_test, y_pred_g)\n",
    "\n",
    "print(\"Gaussian NB Model\")\n",
    "print(f\"Accuracy Score : {accuracy_score(y_test, y_pred_g)}\")\n",
    "print(f\"Precison score : {precision_score(y_test, y_pred_g)}\")\n",
    "print(f\"Recall Score : {recall_score(y_test, y_pred_g)}\")\n",
    "\n",
    "disp = ConfusionMatrixDisplay(confusion_matrix=cm, display_labels=gnb.classes_)\n",
    "disp.plot()"
   ]
  },
  {
   "cell_type": "code",
   "execution_count": 29,
   "id": "11ccd925",
   "metadata": {},
   "outputs": [
    {
     "name": "stdout",
     "output_type": "stream",
     "text": [
      "MultiNominal NB Model\n",
      "Accuracy Score : 0.8311\n",
      "Precison score : 0.8281437125748503\n",
      "Recall Score : 0.833634719710669\n"
     ]
    },
    {
     "data": {
      "text/plain": [
       "<sklearn.metrics._plot.confusion_matrix.ConfusionMatrixDisplay at 0x1a526bd8cd0>"
      ]
     },
     "execution_count": 29,
     "metadata": {},
     "output_type": "execute_result"
    },
    {
     "data": {
      "image/png": "[encoded data removed]",
      "text/plain": [
       "<Figure size 640x480 with 2 Axes>"
      ]
     },
     "metadata": {},
     "output_type": "display_data"
    }
   ],
   "source": [
    "# For MultiNominal NB Model\n",
    "\n",
    "cm = confusion_matrix(y_test, y_pred_m)\n",
    "\n",
    "print(\"MultiNominal NB Model\")\n",
    "print(f\"Accuracy Score : {accuracy_score(y_test, y_pred_m)}\")\n",
    "print(f\"Precison score : {precision_score(y_test, y_pred_m)}\")\n",
    "print(f\"Recall Score : {recall_score(y_test, y_pred_m)}\")\n",
    "\n",
    "\n",
    "disp = ConfusionMatrixDisplay(confusion_matrix=cm, display_labels=mnb.classes_)\n",
    "disp.plot()"
   ]
  },
  {
   "cell_type": "code",
   "execution_count": 30,
   "id": "6594a80f",
   "metadata": {},
   "outputs": [
    {
     "name": "stdout",
     "output_type": "stream",
     "text": [
      "Bernouli NB Model\n",
      "Accuracy Score : 0.8381\n",
      "Precison score : 0.8255137650252036\n",
      "Recall Score : 0.8555354631303999\n"
     ]
    },
    {
     "data": {
      "text/plain": [
       "<sklearn.metrics._plot.confusion_matrix.ConfusionMatrixDisplay at 0x1a526c5d1d0>"
      ]
     },
     "execution_count": 30,
     "metadata": {},
     "output_type": "execute_result"
    },
    {
     "data": {
      "image/png": "[encoded data removed]",
      "text/plain": [
       "<Figure size 640x480 with 2 Axes>"
      ]
     },
     "metadata": {},
     "output_type": "display_data"
    }
   ],
   "source": [
    "# For Bernouli NB Model\n",
    "\n",
    "cm = confusion_matrix(y_test, y_pred_b)\n",
    "\n",
    "print(\"Bernouli NB Model\")\n",
    "print(f\"Accuracy Score : {accuracy_score(y_test, y_pred_b)}\")\n",
    "print(f\"Precison score : {precision_score(y_test, y_pred_b)}\")\n",
    "print(f\"Recall Score : {recall_score(y_test, y_pred_b)}\")\n",
    "\n",
    "\n",
    "disp = ConfusionMatrixDisplay(confusion_matrix=cm, display_labels=bnb.classes_)\n",
    "disp.plot()"
   ]
  },
  {
   "cell_type": "markdown",
   "id": "cf379412",
   "metadata": {},
   "source": [
    "### Save the models using pickle"
   ]
  },
  {
   "cell_type": "code",
   "execution_count": 31,
   "id": "4338e4c2",
   "metadata": {},
   "outputs": [],
   "source": [
    "# Bernouli NB model\n",
    "\n",
    "pickle.dump(bnb, open('./Models/bernouli.pkl', 'wb'))\n",
    "\n",
    "# Gaussian NB Model\n",
    "pickle.dump(gnb, open('./Models/gaussian.pkl', 'wb'))\n",
    "\n",
    "# Multinominal NB model\n",
    "pickle.dump(mnb, open('./Models/multinominal.pkl', 'wb'))"
   ]
  },
  {
   "cell_type": "markdown",
   "id": "28876679",
   "metadata": {},
   "source": [
    "## Now check he model with random movie review"
   ]
  },
  {
   "cell_type": "code",
   "execution_count": 32,
   "id": "6f1b003f",
   "metadata": {},
   "outputs": [],
   "source": [
    "# Review taken from 'KGF-2' movie\n",
    "# Should result in positive\n",
    "review = 'It is a battering ram of a movie. It is designed to pound the audience to submission.'\n",
    "\n",
    "# Preprocessign it using the defined functions\n",
    "f1 = cleanHTML(review)\n",
    "f2 = cleanSpecialCh(f1)\n",
    "f3 = to_lower(f2)\n",
    "f4 = cleanStopwords(f3)\n",
    "final_review = stem_words(f4)\n",
    "\n",
    "bow, words = [], word_tokenize(review)\n",
    "\n",
    "for word in words:\n",
    "    bow.append(words.count(word))\n",
    "\n",
    "# This is to making standard vector \n",
    "word_dict_ = cv.vocabulary_ # 'cv' is the CountVectorizer\n",
    "\n",
    "# Saving the standard dictinary of words\n",
    "pickle.dump(word_dict_, open('./Models/Vocabulary', 'wb'))"
   ]
  },
  {
   "cell_type": "code",
   "execution_count": 33,
   "id": "8750ff6c",
   "metadata": {
    "scrolled": true
   },
   "outputs": [],
   "source": [
    "# Creating an input out of the processed review \n",
    "inp = []\n",
    "for i in word_dict_:\n",
    "    inp.append(final_review.count(i))\n"
   ]
  },
  {
   "cell_type": "code",
   "execution_count": 34,
   "id": "d7b72dec",
   "metadata": {},
   "outputs": [],
   "source": [
    "# Use the created input to predict the movie sentiment\n",
    "\n",
    "# We use Bernouli NB model\n",
    "\n",
    "sentiment = bnb.predict(np.array(inp).reshape(1, 1000))"
   ]
  },
  {
   "cell_type": "code",
   "execution_count": 35,
   "id": "54b4ff72",
   "metadata": {},
   "outputs": [
    {
     "name": "stdout",
     "output_type": "stream",
     "text": [
      "Positive review about the movie\n"
     ]
    }
   ],
   "source": [
    "# Decode the sentiment\n",
    "# IF prediction is 0 -> Negative; 1 -> Positive\n",
    "\n",
    "if sentiment==1 :\n",
    "    print(\"Positive review about the movie\")\n",
    "else :\n",
    "    print(\"Negative review about the movie\")\n",
    "        "
   ]
  }
 ],
 "metadata": {
  "kernelspec": {
   "display_name": "Python 3 (ipykernel)",
   "language": "python",
   "name": "python3"
  },
  "language_info": {
   "codemirror_mode": {
    "name": "ipython",
    "version": 3
   },
   "file_extension": ".py",
   "mimetype": "text/x-python",
   "name": "python",
   "nbconvert_exporter": "python",
   "pygments_lexer": "ipython3",
   "version": "3.11.5"
  }
 },
 "nbformat": 4,
 "nbformat_minor": 5
}
